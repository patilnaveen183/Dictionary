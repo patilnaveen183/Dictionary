{
 "cells": [
  {
   "cell_type": "markdown",
   "id": "89751afa",
   "metadata": {},
   "source": [
    "# Projects"
   ]
  },
  {
   "cell_type": "markdown",
   "id": "54fa2e9e",
   "metadata": {},
   "source": [
    "1A: English Dictionary App\n",
    "\n",
    "Main Menu\n",
    "\n",
    "Add a new word,\n",
    "Find the meaning,\n",
    "Update a word,\n",
    "Exit\n",
    "\n",
    "If item 1 is selected, it should prompt for a word and then accept its meaning. This pair of word and its meaning should be stored in a file called ‘words.txt’. When item 2 is selected, it should prompt for a word, search that word in the file ‘words.txt’ and return the meaning if it is found. If the meaning is not found, it should display an appropriate message. Similarly, when choice 3 is entered, it should accept a word and update its meaning. In all the above three cases, the prompt should return to the main menu. The words and their meanings should be stored as a dictionary in words.txt, using the concept of serialization. If choice 4 is selected, a graceful exit should be performed.\n"
   ]
  },
  {
   "cell_type": "code",
   "execution_count": 1,
   "id": "6d34d103",
   "metadata": {},
   "outputs": [
    {
     "name": "stdout",
     "output_type": "stream",
     "text": [
      "\t1. Add a New Word\n",
      "\t2. Find a meaning of Word\n",
      "\t3. Update a Word\n",
      "\t4. Exit.destroy\n",
      "1\n",
      "Enter the word to add : Mango\n",
      "Enter the meaning of Mango:It is type of fruit\n",
      "\t1. Add a New Word\n",
      "\t2. Find a meaning of Word\n",
      "\t3. Update a Word\n",
      "\t4. Exit.destroy\n",
      "2\n",
      "Enter the word to find its meaning : Mango\n",
      "Mango:It is type of fruit\n",
      "\t1. Add a New Word\n",
      "\t2. Find a meaning of Word\n",
      "\t3. Update a Word\n",
      "\t4. Exit.destroy\n",
      "4\n",
      "Goodbye! program successfully executed and closing it\n"
     ]
    }
   ],
   "source": [
    "All_words={\n",
    "    \"Banana\":\"Fruit\",\n",
    "    \"Parrot\":\"Bird\",\n",
    "    \"Cow\":\"Animal\",\n",
    "    \"Cricket\":\"Sports\",\n",
    "    \"Bike\":\"Vehicle\",\n",
    "    \"Kannada\":\"It is Language of Karnataka\"}\n",
    "\n",
    "def Menu():\n",
    "    print(\"\\t1. Add a New Word\")\n",
    "    print(\"\\t2. Find a meaning of Word\")\n",
    "    print(\"\\t3. Update a Word\")\n",
    "    print(\"\\t4. Exit.destroy\")\n",
    "\n",
    "def Display():\n",
    "    print(\"Words in the dictionary\")\n",
    "    for key in All_words:\n",
    "        print(\"{}:{}\".format(key,All_words[key]))\n",
    "        \n",
    "while(True):\n",
    "    Menu()\n",
    "    choice=int(input())\n",
    "    if choice==1:\n",
    "        word = input(\"Enter the word to add : \")\n",
    "        if word in All_words.keys():\n",
    "            print(\"{} is already exists in dictionary\".format(word))\n",
    "        else:\n",
    "            meaning=input(\"Enter the meaning of {}:\".format(word))\n",
    "            All_words[word]=meaning\n",
    "            \n",
    "    elif choice==2:\n",
    "        word=input(\"Enter the word to find its meaning : \")\n",
    "        if word in All_words.keys():\n",
    "            print(\"{}:{}\".format(word,All_words[word]))\n",
    "        else:\n",
    "            print(\"Word not found, Press 1 to add in Dictionary\")\n",
    "    elif choice==3:\n",
    "        word=input(\"Enter the word to update: \")\n",
    "        if word in All_words.keys():\n",
    "            meaning=input(\"Enter the meaning of {}:\".format(word))\n",
    "            All_words[word]=meaning\n",
    "        else:\n",
    "            print(\"{} is not present in dictionary Press 1 to add in dictionary\".format(word))\n",
    "    elif choice==4:\n",
    "        print(\"Goodbye! program successfully executed and closing it\")\n",
    "        break\n",
    "            "
   ]
  },
  {
   "cell_type": "markdown",
   "id": "8bee4989",
   "metadata": {},
   "source": [
    "1B: Library Book Management System\n",
    "\n",
    "In this project, a Library Book Management System will be implemented with the front end GUI developed using Tkinter and the backend database implemented in SQLite. It is a single window tkinter GUI application which will implement CRUD( create, read, update, delete) operations on a ‘books’ database, in SQLite. The window will contain text widgets to accept / display book title, author, year of publication, ISBN (optional) and a large text area/ list box to display the records which match the search criteria."
   ]
  },
  {
   "cell_type": "code",
   "execution_count": 9,
   "id": "5ffcbe58",
   "metadata": {},
   "outputs": [],
   "source": [
    "from tkinter import *\n",
    "from sqlite3 import *\n",
    "import tkinter.ttk as ttk\n",
    "import tkinter.messagebox as tkMassgeBox"
   ]
  },
  {
   "cell_type": "code",
   "execution_count": 10,
   "id": "6ef0ef67",
   "metadata": {},
   "outputs": [],
   "source": [
    "def Database():\n",
    "    global conn,cursor\n",
    "    conn=connect(\"books.db\")\n",
    "    cursor=conn.cursor()\n",
    "    cursor.execute(\"CREATE TABLE IF NOT EXISTS lbms(author_name TEXT,book_title TEXT,year INTEGER,ISBN INTEGER)\")"
   ]
  },
  {
   "cell_type": "code",
   "execution_count": 11,
   "id": "28bc63ab",
   "metadata": {},
   "outputs": [],
   "source": [
    "def display_all_records():\n",
    "    present.delete(*present.get_children())\n",
    "    Database()\n",
    "    cursor.execute(\"SELECT * FROM lbms ORDER by book_title ASC\")\n",
    "    fetch=cursor.fetchall()\n",
    "    for data in fetch:\n",
    "        present.insert('','end',values=(data[0],data[1],data[2],data[3]))\n",
    "    conn.close()\n",
    "    Ll1.config(text=\"Please see the books!\",fg=\"green\")"
   ]
  },
  {
   "cell_type": "code",
   "execution_count": 12,
   "id": "a7ea86f6",
   "metadata": {},
   "outputs": [],
   "source": [
    "def add_new_book():\n",
    "    Database()\n",
    "    if author_name.get(1.0,\"end-1c\")!=\"\" and book_title.get(1.0,\"end-1c\")!=\"\" and year.get(1.0,\"end-1c\")!=\"\" and ISBN.get(1.0,\"end-1c\")!=\"\":\n",
    "        cursor.execute(\"INSERT INTO lbms VALUES(?,?,?,?)\",(author_name.get(1.0,\"end-1c\"),book_title.get(1.0,\"end-1c\"),int(year.get(1.0,\"end-1c\")),int(ISBN.get(1.0,\"end-1c\"))))\n",
    "        conn.commit()\n",
    "        delete()\n",
    "        conn.close()\n",
    "        Ll1.config(text=\"Book is added successfully!\",fg=\"green\")\n",
    "    else:\n",
    "        Ll1.config(text=\"Please enter all the values to add the book!\",fg=\"red\")\n",
    "        delete()"
   ]
  },
  {
   "cell_type": "code",
   "execution_count": 13,
   "id": "b773f7bd",
   "metadata": {},
   "outputs": [],
   "source": [
    "def Search_book():\n",
    "    present.delete(*present.get_children())\n",
    "    Database()\n",
    "    if str(author_name.get(1.0,\"end-1c\"))!=\"\":\n",
    "        name=\"'\"+str(author_name.get(1.0,\"end-1c\")).title()+\"'\"\n",
    "        temp=\"SELECT * FROM lbms WHERE author_name = \"+name\n",
    "        cursor.execute(temp)\n",
    "        fetch=cursor.fetchall()\n",
    "        for data in fetch:\n",
    "            present.insert('','end',values=(data[0],data[1],data[2],data[3]))\n",
    "        Ll1.config(text=\"Please see the books!\",fg=\"green\")\n",
    "    elif str(book_title.get(1.0,\"end-1c\"))!=\"\":\n",
    "        name=\"'\"+str(book_title.get(1.0,\"end-1c\")).title()+\"'\"\n",
    "        temp=\"SELECT * FROM lbms WHERE book_title = \"+name\n",
    "        cursor.execute(temp)\n",
    "        fetch=cursor.fetchall()\n",
    "        for data in fetch:\n",
    "            present.insert('','end',values=(data[0],data[1],data[2],data[3]))\n",
    "        Ll1.config(text=\"Please see the books!\",fg=\"green\")\n",
    "    elif str(year.get(1.0,\"end-1c\"))!=\"\":\n",
    "        temp=\"SELECT * FROM lbms WHERE year = \"+str(year.get(1.0,\"end-1c\"))\n",
    "        cursor.execute(temp)\n",
    "        fetch=cursor.fetchall()\n",
    "        for data in fetch:\n",
    "            present.insert('','end',values=(data[0],data[1],data[2],data[3]))\n",
    "        Ll1.config(text=\"Please see the books!\",fg=\"green\")\n",
    "    elif str(ISBN.get(1.0,\"end-1c\"))!=\"\":\n",
    "        temp=\"SELECT * FROM lbms WHERE ISBN = \"+str(ISBN.get(1.0,\"end-1c\"))\n",
    "        cursor.execute(temp)\n",
    "        fetch=cursor.fetchall()\n",
    "        for data in fetch:\n",
    "            present.insert('','end',values=(data[0],data[1],data[2],data[3]))\n",
    "        Ll1.config(text=\"Please see the books!\",fg=\"green\")\n",
    "    else:\n",
    "        Ll1.config(text=\"Please enter at least single identity!\",fg=\"red\")\n",
    "    delete()\n",
    "    conn.close()"
   ]
  },
  {
   "cell_type": "code",
   "execution_count": 14,
   "id": "0dd6aacc",
   "metadata": {},
   "outputs": [],
   "source": [
    "def issue_the_book():\n",
    "    Database()\n",
    "    selected_item=present.selection()\n",
    "    if len(selected_item)>0:\n",
    "        present.delete(selected_item)\n",
    "        Ll1.config(text=\"Selected book is issued!\",fg=\"green\")\n",
    "    else:\n",
    "        Ll1.config(text=\"Please select a book from library to issue!\",fg=\"red\")\n",
    "    delete()\n",
    "    conn.close()"
   ]
  },
  {
   "cell_type": "code",
   "execution_count": 15,
   "id": "387dd835",
   "metadata": {},
   "outputs": [],
   "source": [
    "def delete_book():\n",
    "    Database()\n",
    "    if author_name.get(1.0,\"end-1c\")==\"\" or book_title.get(1.0,\"end-1c\")==\"\" or year.get(1.0,\"end-1c\")==\"\" or ISBN.get(1.0,\"end-1c\")==\"\":\n",
    "        Ll1.config(text=\"Please enter all Entries!\",fg=\"red\")\n",
    "        delete()\n",
    "    else:\n",
    "        author='\"'+str(author_name.get(1.0,\"end-1c\"))+'\"'\n",
    "        book='\"'+str(book_title.get(1.0,\"end-1c\"))+'\"'\n",
    "        y=str(year.get(1.0,\"end-1c\"))\n",
    "        I=str(ISBN.get(1.0,\"end-1c\"))\n",
    "        temp=\"DELETE FROM lbms WHERE author_name LIKE \"+author+\" and book_title LIKE \"+book+\" and year = \"+y+\" and ISBN = \"+I\n",
    "        cursor.execute(temp)\n",
    "        conn.commit()\n",
    "        Ll1.config(text=\"Book deleted successfully!\",fg='green')\n",
    "        delete()\n",
    "    conn.close()"
   ]
  },
  {
   "cell_type": "code",
   "execution_count": 16,
   "id": "0a732e7c",
   "metadata": {},
   "outputs": [],
   "source": [
    "def delete():\n",
    "    author_name.delete(\"1.0\",\"end\")\n",
    "    book_title.delete(\"1.0\",\"end\")\n",
    "    year.delete(\"1.0\",\"end\")\n",
    "    ISBN.delete(\"1.0\",\"end\")"
   ]
  },
  {
   "cell_type": "code",
   "execution_count": 17,
   "id": "1fa6b45a",
   "metadata": {},
   "outputs": [],
   "source": [
    "def Exit():\n",
    "    result=tkMassgeBox.askquestion(\"Do you want to exit? (y/n)\",icon=\"warning\")\n",
    "    if result==\"yes\":\n",
    "        root.destroy()\n",
    "        exit()"
   ]
  },
  {
   "cell_type": "code",
   "execution_count": 18,
   "id": "261a2108",
   "metadata": {},
   "outputs": [],
   "source": [
    "root=Tk()   \n",
    "root.geometry(\"900x400\")\n",
    "Top=Frame(root,width=900,height=50,bd=8,relief='raise')\n",
    "Top.pack(side=TOP)\n",
    "Left=Frame(root,width=300,height=500,bd=8,relief='raise')\n",
    "Left.pack(side=LEFT)\n",
    "Right=Frame(root,width=600,height=500,bd=8,relief='raise')\n",
    "Right.pack(side=RIGHT)\n",
    "\n",
    "inner_upper=Frame(Left,width=300,height=250,bd=8,relief=\"raise\")\n",
    "inner_upper.pack(side=TOP)"
   ]
  },
  {
   "cell_type": "code",
   "execution_count": 19,
   "id": "dbad19bf",
   "metadata": {},
   "outputs": [],
   "source": [
    "L1=Label(Top,text=\" Library Book Management System \",font=(\"arial\",20))\n",
    "L1.pack()\n",
    "\n",
    "L2=Label(inner_upper,text=\"Author Name:\",font=(\"arial\",14))\n",
    "L3=Label(inner_upper,text=\"Book Name:\",font=(\"arial\",14))\n",
    "L4=Label(inner_upper,text=\"Published year:\",font=('arial',14))\n",
    "L5=Label(inner_upper,text=\"ISBN:\",font=('arial',14))"
   ]
  },
  {
   "cell_type": "code",
   "execution_count": 20,
   "id": "1c4fbef6",
   "metadata": {},
   "outputs": [],
   "source": [
    "author_name=Text(inner_upper,height=2,width=40)\n",
    "book_title=Text(inner_upper,height=2,width=40)\n",
    "year=Text(inner_upper,height=2,width=40)\n",
    "ISBN=Text(inner_upper,height=2,width=40)"
   ]
  },
  {
   "cell_type": "code",
   "execution_count": 21,
   "id": "ec0235ea",
   "metadata": {},
   "outputs": [],
   "source": [
    "L2.grid(row=0,column=0)\n",
    "author_name.grid(row=0,column=1)\n",
    "L3.grid(row=1,column=0)\n",
    "book_title.grid(row=1,column=1)\n",
    "L4.grid(row=2,column=0)\n",
    "year.grid(row=2,column=1)\n",
    "L5.grid(row=3,column=0)\n",
    "ISBN.grid(row=3,column=1)\n",
    "\n",
    "Ll1=Label(Right)\n",
    "Ll1.pack(side=BOTTOM)\n",
    "inner_frame=Frame(Left,width=250,height=50,bd=8,relief='raise')\n",
    "inner_frame.pack(side=BOTTOM)"
   ]
  },
  {
   "cell_type": "code",
   "execution_count": 22,
   "id": "f35cb958",
   "metadata": {},
   "outputs": [],
   "source": [
    "Bb1=Button(inner_frame,text=\"Display\",command=display_all_records)\n",
    "Bb1.grid(row=0,column=0)\n",
    "Bb2=Button(inner_frame,text=\"Search\",command=Search_book)\n",
    "Bb2.grid(row=0,column=1)\n",
    "Bb3=Button(inner_frame,text=\"Add Book\",command=add_new_book)\n",
    "Bb3.grid(row=0,column=2)\n",
    "Bb4=Button(inner_frame,text=\"Issue Book\",command=issue_the_book)\n",
    "Bb4.grid(row=0,column=3)\n",
    "Bb5=Button(inner_frame,text=\"Delete Book\",command=delete_book)\n",
    "Bb5.grid(row=0,column=4)\n",
    "Bb6=Button(inner_frame,text=\"Exit\",command=Exit)\n",
    "Bb6.grid(row=0,column=5)\n",
    "scrollbary=Scrollbar(Right,orient=VERTICAL)\n",
    "scrollbarx=Scrollbar(Right,orient=HORIZONTAL)"
   ]
  },
  {
   "cell_type": "code",
   "execution_count": 23,
   "id": "2420b782",
   "metadata": {},
   "outputs": [
    {
     "data": {
      "text/plain": [
       "{}"
      ]
     },
     "execution_count": 23,
     "metadata": {},
     "output_type": "execute_result"
    }
   ],
   "source": [
    "present = ttk.Treeview(Right)\n",
    "scrollbary.config(command=present.yview)\n",
    "scrollbary.pack(side=RIGHT,fill=Y)\n",
    "scrollbarx.config(command=present.xview)\n",
    "scrollbarx.pack(side=BOTTOM,fill=X)\n",
    "present['columns']=(\"Author Name\",\"Book Name\",\"Published year\",\"ISBN no\")\n",
    "present.column('#0', width=0, stretch=NO)\n",
    "present.column('Author Name', anchor=CENTER, width=100)\n",
    "present.column('Book Name', anchor=CENTER, width=100)\n",
    "present.column('Published year', anchor=CENTER, width=100)\n",
    "present.column('ISBN no', anchor=CENTER, width=100)"
   ]
  },
  {
   "cell_type": "code",
   "execution_count": 24,
   "id": "0bdd0aad",
   "metadata": {},
   "outputs": [],
   "source": [
    "present.heading('#0', text='', anchor=CENTER)\n",
    "present.heading('Author Name', text='Author Name', anchor=CENTER)\n",
    "present.heading('Book Name', text='Book Name', anchor=CENTER)\n",
    "present.heading('Published year', text='Published year', anchor=CENTER)\n",
    "present.heading('ISBN no', text='ISBN no', anchor=CENTER)\n",
    "\n",
    "present.pack()\n",
    "root.mainloop()"
   ]
  },
  {
   "cell_type": "code",
   "execution_count": null,
   "id": "37105dbf",
   "metadata": {},
   "outputs": [],
   "source": []
  },
  {
   "cell_type": "code",
   "execution_count": null,
   "id": "efb2f647",
   "metadata": {},
   "outputs": [],
   "source": []
  }
 ],
 "metadata": {
  "kernelspec": {
   "display_name": "Python 3 (ipykernel)",
   "language": "python",
   "name": "python3"
  },
  "language_info": {
   "codemirror_mode": {
    "name": "ipython",
    "version": 3
   },
   "file_extension": ".py",
   "mimetype": "text/x-python",
   "name": "python",
   "nbconvert_exporter": "python",
   "pygments_lexer": "ipython3",
   "version": "3.9.12"
  }
 },
 "nbformat": 4,
 "nbformat_minor": 5
}
